{
 "cells": [
  {
   "cell_type": "code",
   "execution_count": 1,
   "id": "d1eb34ce-5210-46d4-ae96-4d075d90f5ab",
   "metadata": {},
   "outputs": [],
   "source": [
    "xvals = [-2.022945287808054, -1.8486091760122103, -1.8476481826866842, -1.7435854332654428,\n",
    "         -1.5282423673888716, -1.3945778557109074, -1.1403979924220742, -0.8009077275459544,\n",
    "         -0.7108560219444477, -0.5638678812593274, -0.43048994749879754, -0.4265240230310121,\n",
    "         -0.23456806947264375, -0.08933017942095312, 0.04091978204507629, 0.5542534388866378,\n",
    "         0.5558786314354511, 0.8006640938973202, 1.2144534202678483, 1.9118026057089639]\n",
    "y = [0, 0, 0, 0, 0, 0, 0, 0, 0, 1, 1, 0, 1, 1, 1, 1, 1, 1, 1, 1]"
   ]
  },
  {
   "cell_type": "code",
   "execution_count": 2,
   "id": "7f578f92-8ad0-4506-81c5-0d821bce96c0",
   "metadata": {},
   "outputs": [],
   "source": [
    "import ml"
   ]
  },
  {
   "cell_type": "code",
   "execution_count": 3,
   "id": "344068f0-a3a2-4e03-958e-e1aff01d1bd6",
   "metadata": {},
   "outputs": [],
   "source": [
    "slope, intercept = ml.fit(xvals, y)"
   ]
  },
  {
   "cell_type": "code",
   "execution_count": 4,
   "id": "0955d971-20c6-4488-820a-15b40ccd5668",
   "metadata": {},
   "outputs": [],
   "source": [
    "predict_proba = ml.predict_proba_maker(slope, intercept)\n",
    "predict = ml.predict_maker(slope, intercept)"
   ]
  },
  {
   "cell_type": "code",
   "execution_count": 5,
   "id": "a2e01113-06e8-4937-a6a6-5a56437c88c0",
   "metadata": {},
   "outputs": [
    {
     "data": {
      "text/plain": [
       "[4.2384487899544125e-07,\n",
       " 2.3448061801774165e-06,\n",
       " 2.367020582552928e-06,\n",
       " 6.571192923791013e-06,\n",
       " 5.4358541876421125e-05,\n",
       " 0.00020173914933983947,\n",
       " 0.002437575065306435,\n",
       " 0.06397080195941987,\n",
       " 0.14189620473359968,\n",
       " 0.41159487946671264,\n",
       " 0.7213831993772614,\n",
       " 0.7291366897897232,\n",
       " 0.9465322242527417,\n",
       " 0.9865972956193445,\n",
       " 0.9962296985932257,\n",
       " 0.9999754229236333,\n",
       " 0.9999758117230415,\n",
       " 0.9999978096835431,\n",
       " 0.9999999622235002,\n",
       " 0.9999999999596727]"
      ]
     },
     "execution_count": 5,
     "metadata": {},
     "output_type": "execute_result"
    }
   ],
   "source": [
    "predict_proba(xvals)"
   ]
  },
  {
   "cell_type": "code",
   "execution_count": 6,
   "id": "f46afbbe-2d94-47d6-a1fa-af1cfe88f587",
   "metadata": {},
   "outputs": [
    {
     "data": {
      "text/plain": [
       "[0, 0, 0, 0, 0, 0, 0, 0, 0, 0, 1, 1, 1, 1, 1, 1, 1, 1, 1, 1]"
      ]
     },
     "execution_count": 6,
     "metadata": {},
     "output_type": "execute_result"
    }
   ],
   "source": [
    "predict(xvals)"
   ]
  },
  {
   "cell_type": "code",
   "execution_count": 7,
   "id": "6ead9b1c-97b6-4b37-9a19-b3343f2ad15e",
   "metadata": {},
   "outputs": [
    {
     "data": {
      "text/plain": [
       "[0, 0, 0, 0, 0, 0, 0, 0, 1, 1, 1, 1, 1, 1, 1, 1, 1, 1, 1, 1]"
      ]
     },
     "execution_count": 7,
     "metadata": {},
     "output_type": "execute_result"
    }
   ],
   "source": [
    "predict(xvals, t=0.1)"
   ]
  },
  {
   "cell_type": "code",
   "execution_count": 8,
   "id": "8f4a63cf-ef96-4cac-b491-dbab2b73745f",
   "metadata": {},
   "outputs": [],
   "source": [
    "m = ml.model()"
   ]
  },
  {
   "cell_type": "code",
   "execution_count": 9,
   "id": "3fc38caf-1afd-4f4b-9d11-63d43db746ac",
   "metadata": {},
   "outputs": [],
   "source": [
    "m['fit'](xvals, y)"
   ]
  },
  {
   "cell_type": "code",
   "execution_count": 10,
   "id": "d9ab03e0-88e1-4e61-b348-feaeaf6611c5",
   "metadata": {},
   "outputs": [
    {
     "data": {
      "text/plain": [
       "[4.2384487899544125e-07,\n",
       " 2.3448061801774165e-06,\n",
       " 2.367020582552928e-06,\n",
       " 6.571192923791013e-06,\n",
       " 5.4358541876421125e-05,\n",
       " 0.00020173914933983947,\n",
       " 0.002437575065306435,\n",
       " 0.06397080195941987,\n",
       " 0.14189620473359968,\n",
       " 0.41159487946671264,\n",
       " 0.7213831993772614,\n",
       " 0.7291366897897232,\n",
       " 0.9465322242527417,\n",
       " 0.9865972956193445,\n",
       " 0.9962296985932257,\n",
       " 0.9999754229236333,\n",
       " 0.9999758117230415,\n",
       " 0.9999978096835431,\n",
       " 0.9999999622235002,\n",
       " 0.9999999999596727]"
      ]
     },
     "execution_count": 10,
     "metadata": {},
     "output_type": "execute_result"
    }
   ],
   "source": [
    "m['predict_proba'](xvals)"
   ]
  },
  {
   "cell_type": "code",
   "execution_count": 11,
   "id": "63e931a1-8602-4dd4-9d21-9f94bac2cfa7",
   "metadata": {},
   "outputs": [
    {
     "data": {
      "text/plain": [
       "[0, 0, 0, 0, 0, 0, 0, 0, 0, 0, 1, 1, 1, 1, 1, 1, 1, 1, 1, 1]"
      ]
     },
     "execution_count": 11,
     "metadata": {},
     "output_type": "execute_result"
    }
   ],
   "source": [
    "m['predict'](xvals)"
   ]
  },
  {
   "cell_type": "code",
   "execution_count": 12,
   "id": "73e8df90-52ed-41b7-ad48-016b53176d2d",
   "metadata": {},
   "outputs": [
    {
     "data": {
      "text/plain": [
       "[0, 0, 0, 0, 0, 0, 0, 0, 1, 1, 1, 1, 1, 1, 1, 1, 1, 1, 1, 1]"
      ]
     },
     "execution_count": 12,
     "metadata": {},
     "output_type": "execute_result"
    }
   ],
   "source": [
    "m['predict'](xvals, t=0.1)"
   ]
  },
  {
   "cell_type": "code",
   "execution_count": 13,
   "id": "b990864f-7496-4846-8b49-e644288cd038",
   "metadata": {},
   "outputs": [],
   "source": [
    "mlm = ml.LogisticModel()"
   ]
  },
  {
   "cell_type": "code",
   "execution_count": 14,
   "id": "945f031d-7451-4124-96e0-e4b6c4fa01b6",
   "metadata": {},
   "outputs": [],
   "source": [
    "mlm.intercept"
   ]
  },
  {
   "cell_type": "code",
   "execution_count": 15,
   "id": "c79df351-6bd6-4618-8c8b-7368bd2519f3",
   "metadata": {},
   "outputs": [],
   "source": [
    "mlm.fit(xvals, y)"
   ]
  },
  {
   "cell_type": "code",
   "execution_count": 16,
   "id": "07f8e0f2-55b6-4c3f-abd6-543764ce3444",
   "metadata": {},
   "outputs": [
    {
     "data": {
      "text/plain": [
       "5.175316482607568"
      ]
     },
     "execution_count": 16,
     "metadata": {},
     "output_type": "execute_result"
    }
   ],
   "source": [
    "mlm.intercept"
   ]
  },
  {
   "cell_type": "code",
   "execution_count": 17,
   "id": "c9093497-a455-4f52-b891-a4a9b937434c",
   "metadata": {},
   "outputs": [],
   "source": [
    "mlm.probabilities"
   ]
  },
  {
   "cell_type": "code",
   "execution_count": 18,
   "id": "af00e839-9018-4a85-ae87-88c0785de87d",
   "metadata": {},
   "outputs": [
    {
     "data": {
      "text/plain": [
       "[4.2384487899544125e-07,\n",
       " 2.3448061801774165e-06,\n",
       " 2.367020582552928e-06,\n",
       " 6.571192923791013e-06,\n",
       " 5.4358541876421125e-05,\n",
       " 0.00020173914933983947,\n",
       " 0.002437575065306435,\n",
       " 0.06397080195941987,\n",
       " 0.14189620473359968,\n",
       " 0.41159487946671264,\n",
       " 0.7213831993772614,\n",
       " 0.7291366897897232,\n",
       " 0.9465322242527417,\n",
       " 0.9865972956193445,\n",
       " 0.9962296985932257,\n",
       " 0.9999754229236333,\n",
       " 0.9999758117230415,\n",
       " 0.9999978096835431,\n",
       " 0.9999999622235002,\n",
       " 0.9999999999596727]"
      ]
     },
     "execution_count": 18,
     "metadata": {},
     "output_type": "execute_result"
    }
   ],
   "source": [
    "mlm.predict_proba(xvals)"
   ]
  },
  {
   "cell_type": "code",
   "execution_count": 19,
   "id": "b449d01f-d297-4c0c-8917-7b21e586105d",
   "metadata": {},
   "outputs": [],
   "source": [
    "mlm.predictions"
   ]
  },
  {
   "cell_type": "code",
   "execution_count": 20,
   "id": "c3f2c592-8762-45e1-b072-0410c69b9b76",
   "metadata": {},
   "outputs": [
    {
     "data": {
      "text/plain": [
       "[4.2384487899544125e-07,\n",
       " 2.3448061801774165e-06,\n",
       " 2.367020582552928e-06,\n",
       " 6.571192923791013e-06,\n",
       " 5.4358541876421125e-05,\n",
       " 0.00020173914933983947,\n",
       " 0.002437575065306435,\n",
       " 0.06397080195941987,\n",
       " 0.14189620473359968,\n",
       " 0.41159487946671264,\n",
       " 0.7213831993772614,\n",
       " 0.7291366897897232,\n",
       " 0.9465322242527417,\n",
       " 0.9865972956193445,\n",
       " 0.9962296985932257,\n",
       " 0.9999754229236333,\n",
       " 0.9999758117230415,\n",
       " 0.9999978096835431,\n",
       " 0.9999999622235002,\n",
       " 0.9999999999596727]"
      ]
     },
     "execution_count": 20,
     "metadata": {},
     "output_type": "execute_result"
    }
   ],
   "source": [
    "mlm.probabilities"
   ]
  },
  {
   "cell_type": "code",
   "execution_count": 21,
   "id": "82516a8b-d8de-4715-a1d7-f4f35ab6c9af",
   "metadata": {},
   "outputs": [
    {
     "data": {
      "text/plain": [
       "[0, 0, 0, 0, 0, 0, 0, 0, 0, 0, 1, 1, 1, 1, 1, 1, 1, 1, 1, 1]"
      ]
     },
     "execution_count": 21,
     "metadata": {},
     "output_type": "execute_result"
    }
   ],
   "source": [
    "mlm.predict(xvals)"
   ]
  },
  {
   "cell_type": "code",
   "execution_count": 22,
   "id": "5e907c4b-a98e-4d07-85fd-b4526f3b15fb",
   "metadata": {},
   "outputs": [
    {
     "data": {
      "text/plain": [
       "[0, 0, 0, 0, 0, 0, 0, 0, 1, 1, 1, 1, 1, 1, 1, 1, 1, 1, 1, 1]"
      ]
     },
     "execution_count": 22,
     "metadata": {},
     "output_type": "execute_result"
    }
   ],
   "source": [
    "mlm.predict(xvals, t=0.1)"
   ]
  }
 ],
 "metadata": {
  "kernelspec": {
   "display_name": "Python 3 (ipykernel)",
   "language": "python",
   "name": "python3"
  },
  "language_info": {
   "codemirror_mode": {
    "name": "ipython",
    "version": 3
   },
   "file_extension": ".py",
   "mimetype": "text/x-python",
   "name": "python",
   "nbconvert_exporter": "python",
   "pygments_lexer": "ipython3",
   "version": "3.12.2"
  }
 },
 "nbformat": 4,
 "nbformat_minor": 5
}
