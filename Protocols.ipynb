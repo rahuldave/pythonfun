{
 "cells": [
  {
   "cell_type": "code",
   "execution_count": 15,
   "id": "6a3fd4e0-8a8c-485e-a121-5f506201aac6",
   "metadata": {},
   "outputs": [],
   "source": [
    "class Animal:\n",
    "    def eat(self):\n",
    "        print(\"I eat\")\n",
    "        return None\n",
    "\n",
    "class Cow(Animal):\n",
    "    def eat(self):\n",
    "        print(\"I eat grass\")\n",
    "        return 2"
   ]
  },
  {
   "cell_type": "code",
   "execution_count": 16,
   "id": "35f149dd-853c-49e7-aa2a-a2500900556b",
   "metadata": {},
   "outputs": [
    {
     "name": "stdout",
     "output_type": "stream",
     "text": [
      "I eat\n"
     ]
    }
   ],
   "source": [
    "a = Animal()\n",
    "a.eat()"
   ]
  },
  {
   "cell_type": "code",
   "execution_count": 17,
   "id": "244376d5-fa80-4620-852b-e26d3d5e46f8",
   "metadata": {},
   "outputs": [
    {
     "name": "stdout",
     "output_type": "stream",
     "text": [
      "I eat grass\n"
     ]
    },
    {
     "data": {
      "text/plain": [
       "2"
      ]
     },
     "execution_count": 17,
     "metadata": {},
     "output_type": "execute_result"
    }
   ],
   "source": [
    "c = Cow()\n",
    "c.eat()"
   ]
  },
  {
   "cell_type": "code",
   "execution_count": 18,
   "id": "dd4843bf-ab36-401e-80b3-fc872f5dfb48",
   "metadata": {},
   "outputs": [],
   "source": [
    "class Tiger(Animal):\n",
    "    def eat(self):\n",
    "        print(\"I eat meat\")\n",
    "        return 4"
   ]
  },
  {
   "cell_type": "code",
   "execution_count": 19,
   "id": "830d0b19-12d6-4ea1-ad3b-76970d2e709c",
   "metadata": {},
   "outputs": [
    {
     "name": "stdout",
     "output_type": "stream",
     "text": [
      "I eat meat\n"
     ]
    },
    {
     "data": {
      "text/plain": [
       "4"
      ]
     },
     "execution_count": 19,
     "metadata": {},
     "output_type": "execute_result"
    }
   ],
   "source": [
    "t = Tiger()\n",
    "t.eat()"
   ]
  },
  {
   "cell_type": "code",
   "execution_count": 20,
   "id": "aff730dc-1bfe-4cbe-8770-3a4a8119df6c",
   "metadata": {},
   "outputs": [
    {
     "name": "stdout",
     "output_type": "stream",
     "text": [
      "I eat meat\n"
     ]
    },
    {
     "data": {
      "text/plain": [
       "4"
      ]
     },
     "execution_count": 20,
     "metadata": {},
     "output_type": "execute_result"
    }
   ],
   "source": [
    "t2 = Tiger()\n",
    "t2.eat()"
   ]
  },
  {
   "cell_type": "code",
   "execution_count": 44,
   "id": "bedacc49-d128-42c1-a0fd-3b8cb69f93ba",
   "metadata": {},
   "outputs": [],
   "source": [
    "class Zoo:\n",
    "\n",
    "    def __init__(self, list_of_animals):\n",
    "        self.animals = list_of_animals\n",
    "\n",
    "    def __len__(self):\n",
    "        return len(self.animals)\n",
    "\n",
    "    def __getitem__(self, i):\n",
    "        return self.animals[i]"
   ]
  },
  {
   "cell_type": "code",
   "execution_count": 45,
   "id": "f31f3092-9487-41ce-b6de-4ad169782c1f",
   "metadata": {},
   "outputs": [],
   "source": [
    "zoo = Zoo([c, t])"
   ]
  },
  {
   "cell_type": "code",
   "execution_count": 46,
   "id": "7ee7f4e6-a431-4067-9b79-ced313ff75a8",
   "metadata": {},
   "outputs": [
    {
     "name": "stdout",
     "output_type": "stream",
     "text": [
      "I eat grass\n",
      "I eat meat\n"
     ]
    }
   ],
   "source": [
    "total_food_eaten = 0\n",
    "for animal in zoo.animals:\n",
    "    total_food_eaten += animal.eat()"
   ]
  },
  {
   "cell_type": "code",
   "execution_count": 47,
   "id": "e5b2519f-9f79-4c54-b4d9-d64179cc2672",
   "metadata": {},
   "outputs": [
    {
     "data": {
      "text/plain": [
       "6"
      ]
     },
     "execution_count": 47,
     "metadata": {},
     "output_type": "execute_result"
    }
   ],
   "source": [
    "total_food_eaten"
   ]
  },
  {
   "cell_type": "code",
   "execution_count": 48,
   "id": "d1e52087-72bc-4559-8b46-03503be915fa",
   "metadata": {},
   "outputs": [
    {
     "data": {
      "text/plain": [
       "2"
      ]
     },
     "execution_count": 48,
     "metadata": {},
     "output_type": "execute_result"
    }
   ],
   "source": [
    "len(zoo)"
   ]
  },
  {
   "cell_type": "code",
   "execution_count": 49,
   "id": "d0d488a1-5321-42c9-9533-7b41a6e72998",
   "metadata": {},
   "outputs": [
    {
     "name": "stdout",
     "output_type": "stream",
     "text": [
      "<__main__.Cow object at 0x1093c6c30>\n",
      "<__main__.Tiger object at 0x1093c6b70>\n"
     ]
    }
   ],
   "source": [
    "for animal in zoo:\n",
    "    print(animal)"
   ]
  },
  {
   "cell_type": "code",
   "execution_count": 36,
   "id": "2523d0db-28fc-45c4-85b9-e52b88bfaf8b",
   "metadata": {},
   "outputs": [
    {
     "data": {
      "text/plain": [
       "4"
      ]
     },
     "execution_count": 36,
     "metadata": {},
     "output_type": "execute_result"
    }
   ],
   "source": [
    "len([1,2,3,4]) # list"
   ]
  },
  {
   "cell_type": "code",
   "execution_count": 50,
   "id": "0593aedf-c944-46e4-a98d-c2d2e2680321",
   "metadata": {},
   "outputs": [
    {
     "name": "stdout",
     "output_type": "stream",
     "text": [
      "1\n",
      "2\n",
      "3\n",
      "4\n"
     ]
    }
   ],
   "source": [
    "for item in [1,2,3,4]:\n",
    "    print(item)"
   ]
  },
  {
   "cell_type": "code",
   "execution_count": 37,
   "id": "e705b96a-f152-436d-90ba-d94ecf8dbe3a",
   "metadata": {},
   "outputs": [
    {
     "data": {
      "text/plain": [
       "11"
      ]
     },
     "execution_count": 37,
     "metadata": {},
     "output_type": "execute_result"
    }
   ],
   "source": [
    "len(\"hello world\") # string"
   ]
  },
  {
   "cell_type": "code",
   "execution_count": 51,
   "id": "f45fc384-f057-40c0-9544-e5b79e5da723",
   "metadata": {},
   "outputs": [
    {
     "name": "stdout",
     "output_type": "stream",
     "text": [
      "h\n",
      "e\n",
      "l\n",
      "l\n",
      "o\n",
      " \n",
      "w\n",
      "o\n",
      "r\n",
      "l\n",
      "d\n"
     ]
    }
   ],
   "source": [
    "for ch in \"hello world\":\n",
    "    print(ch)"
   ]
  },
  {
   "cell_type": "code",
   "execution_count": 52,
   "id": "a1df1976-3597-473e-9d21-55411aa2abbf",
   "metadata": {},
   "outputs": [
    {
     "ename": "TypeError",
     "evalue": "'str' object does not support item assignment",
     "output_type": "error",
     "traceback": [
      "\u001b[0;31m---------------------------------------------------------------------------\u001b[0m",
      "\u001b[0;31mTypeError\u001b[0m                                 Traceback (most recent call last)",
      "Cell \u001b[0;32mIn[52], line 2\u001b[0m\n\u001b[1;32m      1\u001b[0m s \u001b[38;5;241m=\u001b[39m \u001b[38;5;124m\"\u001b[39m\u001b[38;5;124mhello myself\u001b[39m\u001b[38;5;124m\"\u001b[39m\n\u001b[0;32m----> 2\u001b[0m \u001b[43ms\u001b[49m\u001b[43m[\u001b[49m\u001b[38;5;241;43m0\u001b[39;49m\u001b[43m]\u001b[49m \u001b[38;5;241m=\u001b[39m \u001b[38;5;124m'\u001b[39m\u001b[38;5;124mj\u001b[39m\u001b[38;5;124m'\u001b[39m\n",
      "\u001b[0;31mTypeError\u001b[0m: 'str' object does not support item assignment"
     ]
    }
   ],
   "source": [
    "s = \"hello myself\"\n",
    "s[0] = 'j'"
   ]
  },
  {
   "cell_type": "code",
   "execution_count": 38,
   "id": "aa586ce3-1c7f-48ba-a8aa-15b66677d685",
   "metadata": {},
   "outputs": [
    {
     "data": {
      "text/plain": [
       "3"
      ]
     },
     "execution_count": 38,
     "metadata": {},
     "output_type": "execute_result"
    }
   ],
   "source": [
    "len({'a': 1, 'b': 2, 'c': 3}) # dictionary"
   ]
  },
  {
   "cell_type": "code",
   "execution_count": 53,
   "id": "87b6ae8e-a86e-4d16-9383-8a4eb4d2f399",
   "metadata": {},
   "outputs": [
    {
     "name": "stdout",
     "output_type": "stream",
     "text": [
      "a\n",
      "b\n",
      "c\n"
     ]
    }
   ],
   "source": [
    "for key in {'a': 1, 'b': 2, 'c': 3}:\n",
    "    print(key)"
   ]
  },
  {
   "cell_type": "code",
   "execution_count": 39,
   "id": "77d13037-eaa9-45cc-aa7d-bd76a61a04d4",
   "metadata": {},
   "outputs": [
    {
     "data": {
      "text/plain": [
       "4"
      ]
     },
     "execution_count": 39,
     "metadata": {},
     "output_type": "execute_result"
    }
   ],
   "source": [
    "len(( 1,2,3,4)) # tuple"
   ]
  },
  {
   "cell_type": "code",
   "execution_count": 54,
   "id": "e0488d90-9d1c-414f-8d7a-48621e63eaa6",
   "metadata": {},
   "outputs": [
    {
     "name": "stdout",
     "output_type": "stream",
     "text": [
      "1\n",
      "2\n",
      "3\n",
      "4\n"
     ]
    }
   ],
   "source": [
    "for member in (1,2,3,4):\n",
    "    print(member)"
   ]
  },
  {
   "cell_type": "code",
   "execution_count": 40,
   "id": "5367d616-d990-4b2d-bbba-966199538808",
   "metadata": {},
   "outputs": [],
   "source": [
    "tup = (1,2,3,4) # tuple"
   ]
  },
  {
   "cell_type": "code",
   "execution_count": 41,
   "id": "6bf4c7c3-b288-4c10-8d7f-214146f9ffe5",
   "metadata": {},
   "outputs": [
    {
     "data": {
      "text/plain": [
       "3"
      ]
     },
     "execution_count": 41,
     "metadata": {},
     "output_type": "execute_result"
    }
   ],
   "source": [
    "tup[2]"
   ]
  },
  {
   "cell_type": "code",
   "execution_count": 42,
   "id": "8a7b1697-cdf5-48ee-8ac0-553cef6885d0",
   "metadata": {},
   "outputs": [
    {
     "ename": "TypeError",
     "evalue": "'tuple' object does not support item assignment",
     "output_type": "error",
     "traceback": [
      "\u001b[0;31m---------------------------------------------------------------------------\u001b[0m",
      "\u001b[0;31mTypeError\u001b[0m                                 Traceback (most recent call last)",
      "Cell \u001b[0;32mIn[42], line 1\u001b[0m\n\u001b[0;32m----> 1\u001b[0m \u001b[43mtup\u001b[49m\u001b[43m[\u001b[49m\u001b[38;5;241;43m2\u001b[39;49m\u001b[43m]\u001b[49m \u001b[38;5;241m=\u001b[39m \u001b[38;5;241m99\u001b[39m\n",
      "\u001b[0;31mTypeError\u001b[0m: 'tuple' object does not support item assignment"
     ]
    }
   ],
   "source": [
    "tup[2] = 99"
   ]
  },
  {
   "cell_type": "code",
   "execution_count": 43,
   "id": "cec5afd3-c1a5-40a1-8b36-8a156c8cf140",
   "metadata": {},
   "outputs": [
    {
     "data": {
      "text/plain": [
       "3"
      ]
     },
     "execution_count": 43,
     "metadata": {},
     "output_type": "execute_result"
    }
   ],
   "source": [
    "len({1,3,5,1,3,5}) # set"
   ]
  },
  {
   "cell_type": "code",
   "execution_count": 55,
   "id": "44166856-1235-4a0e-a62e-7d1d94de59c5",
   "metadata": {},
   "outputs": [
    {
     "name": "stdout",
     "output_type": "stream",
     "text": [
      "1\n",
      "3\n",
      "5\n"
     ]
    }
   ],
   "source": [
    "for ele in {1,3,5,1,3,5}:\n",
    "    print(ele)"
   ]
  },
  {
   "cell_type": "markdown",
   "id": "b0b4bee7-5aa2-43d1-96aa-6b6b6af0c321",
   "metadata": {},
   "source": [
    "All of these are following the sequence protocol"
   ]
  },
  {
   "cell_type": "code",
   "execution_count": 72,
   "id": "61b1ba56-00ed-4f14-8ad2-654125eb77a6",
   "metadata": {},
   "outputs": [],
   "source": [
    "import reprlib\n",
    "class Vector:\n",
    "\n",
    "    def __init__(self, vlist):\n",
    "        self.c = tuple(vlist)\n",
    "\n",
    "    def __repr__(self):\n",
    "        return f\"Vector{reprlib.repr(self.c)}\"\n",
    "        \n",
    "    def __len__(self):\n",
    "        return len(self.c)\n",
    "\n",
    "    def __getitem__(self, i):\n",
    "        return self.c[i]\n",
    "        \n",
    "    def __add__(self, otherv):\n",
    "        el = []\n",
    "        for i,e in enumerate(self.c):\n",
    "            el.append(e + otherv[i])\n",
    "        return Vector(el)"
   ]
  },
  {
   "cell_type": "code",
   "execution_count": 73,
   "id": "663b10f7-7fd3-4f12-87aa-f821e4c00a83",
   "metadata": {},
   "outputs": [],
   "source": [
    "v1 = Vector([1,2])\n",
    "v2 = Vector([1,1])"
   ]
  },
  {
   "cell_type": "code",
   "execution_count": 74,
   "id": "3c96e217-ef3e-4408-8741-3f9c525d5d0c",
   "metadata": {},
   "outputs": [
    {
     "name": "stdout",
     "output_type": "stream",
     "text": [
      "5\n"
     ]
    }
   ],
   "source": [
    "print(5)"
   ]
  },
  {
   "cell_type": "code",
   "execution_count": 75,
   "id": "36f02422-0bf0-4662-98f8-60c1beb4fd5b",
   "metadata": {},
   "outputs": [
    {
     "data": {
      "text/plain": [
       "Vector(1, 2)"
      ]
     },
     "execution_count": 75,
     "metadata": {},
     "output_type": "execute_result"
    }
   ],
   "source": [
    "v1"
   ]
  },
  {
   "cell_type": "code",
   "execution_count": 76,
   "id": "0cafe950-1dbb-4deb-aea2-abab1da5da58",
   "metadata": {},
   "outputs": [
    {
     "data": {
      "text/plain": [
       "Vector(2, 3)"
      ]
     },
     "execution_count": 76,
     "metadata": {},
     "output_type": "execute_result"
    }
   ],
   "source": [
    "v1+v2"
   ]
  },
  {
   "cell_type": "code",
   "execution_count": 77,
   "id": "dad1236a-78c7-453d-a291-4d296e7bfabd",
   "metadata": {},
   "outputs": [],
   "source": [
    "v3 = v1 + v2"
   ]
  },
  {
   "cell_type": "code",
   "execution_count": 78,
   "id": "a5062b0e-b9d4-4203-be98-11a45bfb4be5",
   "metadata": {},
   "outputs": [
    {
     "data": {
      "text/plain": [
       "Vector(2, 3)"
      ]
     },
     "execution_count": 78,
     "metadata": {},
     "output_type": "execute_result"
    }
   ],
   "source": [
    "v3"
   ]
  },
  {
   "cell_type": "code",
   "execution_count": 69,
   "id": "2e5615e4-70b3-4fc8-bbbe-561c36e0fb8c",
   "metadata": {},
   "outputs": [
    {
     "data": {
      "text/plain": [
       "(2, 3)"
      ]
     },
     "execution_count": 69,
     "metadata": {},
     "output_type": "execute_result"
    }
   ],
   "source": [
    "v3.c"
   ]
  },
  {
   "cell_type": "code",
   "execution_count": 59,
   "id": "a9ef99c4-ba23-41c4-acd2-ef31abaa2893",
   "metadata": {},
   "outputs": [
    {
     "data": {
      "text/plain": [
       "[1, 2, 3, 4]"
      ]
     },
     "execution_count": 59,
     "metadata": {},
     "output_type": "execute_result"
    }
   ],
   "source": [
    "[1,2]+[3,4]"
   ]
  },
  {
   "cell_type": "code",
   "execution_count": 60,
   "id": "2e76a1b4-720d-4695-ac64-b56fdc5454b6",
   "metadata": {},
   "outputs": [
    {
     "data": {
      "text/plain": [
       "(1, 2, 3, 4)"
      ]
     },
     "execution_count": 60,
     "metadata": {},
     "output_type": "execute_result"
    }
   ],
   "source": [
    "(1,2)+(3,4)"
   ]
  },
  {
   "cell_type": "code",
   "execution_count": 61,
   "id": "c1ed7e75-6722-4f76-9ab9-fe24a1527543",
   "metadata": {},
   "outputs": [
    {
     "ename": "TypeError",
     "evalue": "unsupported operand type(s) for +: 'set' and 'set'",
     "output_type": "error",
     "traceback": [
      "\u001b[0;31m---------------------------------------------------------------------------\u001b[0m",
      "\u001b[0;31mTypeError\u001b[0m                                 Traceback (most recent call last)",
      "Cell \u001b[0;32mIn[61], line 1\u001b[0m\n\u001b[0;32m----> 1\u001b[0m \u001b[43m{\u001b[49m\u001b[38;5;241;43m1\u001b[39;49m\u001b[43m,\u001b[49m\u001b[38;5;241;43m3\u001b[39;49m\u001b[43m,\u001b[49m\u001b[38;5;241;43m5\u001b[39;49m\u001b[43m,\u001b[49m\u001b[38;5;241;43m1\u001b[39;49m\u001b[43m}\u001b[49m\u001b[38;5;241;43m+\u001b[39;49m\u001b[43m{\u001b[49m\u001b[38;5;241;43m2\u001b[39;49m\u001b[43m,\u001b[49m\u001b[38;5;241;43m4\u001b[39;49m\u001b[43m}\u001b[49m\n",
      "\u001b[0;31mTypeError\u001b[0m: unsupported operand type(s) for +: 'set' and 'set'"
     ]
    }
   ],
   "source": [
    "{1,3,5,1}+{2,4}"
   ]
  },
  {
   "cell_type": "code",
   "execution_count": 62,
   "id": "9cbb0a15-a231-46e8-80de-ee23b6262a81",
   "metadata": {},
   "outputs": [
    {
     "ename": "TypeError",
     "evalue": "unsupported operand type(s) for +: 'dict' and 'dict'",
     "output_type": "error",
     "traceback": [
      "\u001b[0;31m---------------------------------------------------------------------------\u001b[0m",
      "\u001b[0;31mTypeError\u001b[0m                                 Traceback (most recent call last)",
      "Cell \u001b[0;32mIn[62], line 1\u001b[0m\n\u001b[0;32m----> 1\u001b[0m \u001b[43m{\u001b[49m\u001b[38;5;124;43m'\u001b[39;49m\u001b[38;5;124;43ma\u001b[39;49m\u001b[38;5;124;43m'\u001b[39;49m\u001b[43m:\u001b[49m\u001b[38;5;241;43m1\u001b[39;49m\u001b[43m}\u001b[49m\u001b[38;5;241;43m+\u001b[39;49m\u001b[43m{\u001b[49m\u001b[38;5;124;43m'\u001b[39;49m\u001b[38;5;124;43mb\u001b[39;49m\u001b[38;5;124;43m'\u001b[39;49m\u001b[43m:\u001b[49m\u001b[38;5;241;43m2\u001b[39;49m\u001b[43m}\u001b[49m\n",
      "\u001b[0;31mTypeError\u001b[0m: unsupported operand type(s) for +: 'dict' and 'dict'"
     ]
    }
   ],
   "source": [
    "{'a':1}+{'b':2}"
   ]
  },
  {
   "cell_type": "code",
   "execution_count": 63,
   "id": "cf7f632d-02e5-4a58-b98b-03bc3626cc1a",
   "metadata": {},
   "outputs": [
    {
     "data": {
      "text/plain": [
       "'helloworld'"
      ]
     },
     "execution_count": 63,
     "metadata": {},
     "output_type": "execute_result"
    }
   ],
   "source": [
    "\"hello\"+\"world\""
   ]
  },
  {
   "cell_type": "code",
   "execution_count": null,
   "id": "9508f52c-7e72-401a-a0e3-9e6bc43bf1a8",
   "metadata": {},
   "outputs": [],
   "source": []
  }
 ],
 "metadata": {
  "kernelspec": {
   "display_name": "Python 3 (ipykernel)",
   "language": "python",
   "name": "python3"
  },
  "language_info": {
   "codemirror_mode": {
    "name": "ipython",
    "version": 3
   },
   "file_extension": ".py",
   "mimetype": "text/x-python",
   "name": "python",
   "nbconvert_exporter": "python",
   "pygments_lexer": "ipython3",
   "version": "3.12.2"
  }
 },
 "nbformat": 4,
 "nbformat_minor": 5
}
